{
 "cells": [
  {
   "cell_type": "code",
   "execution_count": null,
   "metadata": {},
   "outputs": [],
   "source": [
    "from quantopian.pipeline import Pipeline  \n",
    "from quantopian.pipeline.data import EquityPricing, factset  \n",
    "from quantopian.pipeline.domain import CN_EQUITIES  \n",
    "from quantopian.research import run_pipeline\n",
    "\n",
    "pipe = Pipeline(  \n",
    "    columns={  \n",
    "        'price': EquityPricing.close.latest,  \n",
    "        'volume': EquityPricing.volume.latest,  \n",
    "        'mcap': factset.Fundamentals.mkt_val.latest,  \n",
    "    },  \n",
    "    domain=CN_EQUITIES,  \n",
    ")\n",
    "\n",
    "result = run_pipeline(pipe, '2018-01-01', '2019-01-01')  \n",
    "\n",
    "result"
   ]
  },
  {
   "cell_type": "code",
   "execution_count": null,
   "metadata": {},
   "outputs": [],
   "source": []
  }
 ],
 "metadata": {
  "kernelspec": {
   "display_name": "Python 3.5",
   "language": "python",
   "name": "py35"
  },
  "language_info": {
   "codemirror_mode": {
    "name": "ipython",
    "version": 3
   },
   "file_extension": ".py",
   "mimetype": "text/x-python",
   "name": "python",
   "nbconvert_exporter": "python",
   "pygments_lexer": "ipython3",
   "version": "3.5.9"
  }
 },
 "nbformat": 4,
 "nbformat_minor": 2
}
