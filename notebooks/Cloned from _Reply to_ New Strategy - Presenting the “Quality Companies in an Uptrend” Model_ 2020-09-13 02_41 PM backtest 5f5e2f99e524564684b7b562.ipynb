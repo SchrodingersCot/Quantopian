{
 "cells": [
  {
   "cell_type": "markdown",
   "metadata": {},
   "source": [
    "Run the cell below to create your tear sheet."
   ]
  },
  {
   "cell_type": "code",
   "execution_count": null,
   "metadata": {},
   "outputs": [],
   "source": [
    "bt = get_backtest('5f5e2f99e524564684b7b562')\n",
    "bt.create_full_tear_sheet()"
   ]
  },
  {
   "cell_type": "code",
   "execution_count": null,
   "metadata": {},
   "outputs": [],
   "source": [
    "import matplotlib.pyplot as plt\n",
    "import matplotlib.cm as cm\n",
    "\n",
    "import numpy as np\n",
    "import pandas as pd\n",
    "\n",
    "from sklearn.cluster import KMeans, DBSCAN\n",
    "from sklearn.decomposition import PCA\n",
    "from sklearn.manifold import TSNE\n",
    "from sklearn import preprocessing\n",
    "\n",
    "import statsmodels.api as sm\n",
    "from statsmodels.tsa.stattools import coint\n",
    "\n",
    "from scipy import stats\n",
    "from quantopian.pipeline.factors import AnnualizedVolatility, Factor, Returns, CustomFactor\n",
    "from quantopian.pipeline import Pipeline\n",
    "from quantopian.pipeline.data import morningstar\n",
    "from quantopian.pipeline.data.builtin import USEquityPricing\n",
    "from quantopian.pipeline.factors import SimpleMovingAverage, AverageDollarVolume\n",
    "from quantopian.pipeline.filters import  StaticAssets\n",
    "from quantopian.pipeline.filters.morningstar import Q500US, Q1500US, Q3000US\n",
    "from quantopian.pipeline.data.factset import EquityMetadata\n",
    "from quantopian.pipeline import Pipeline\n",
    "from quantopian.research import run_pipeline"
   ]
  },
  {
   "cell_type": "code",
   "execution_count": null,
   "metadata": {},
   "outputs": [],
   "source": [
    "#prices = data.history(context.security_list,\"close\", 180, \"1d\")  \n",
    "\n",
    "prices = USEquityPricing.close.latest\n",
    "\n",
    "# Create pipeline\n",
    "universe = Q1500US()\n",
    "#universe = StaticAssets(symbols(['TSLA', 'AAPL']))\n",
    "\n",
    "pipe = Pipeline(\n",
    "        columns = {\n",
    "            'price' : prices},\n",
    "        screen = universe)"
   ]
  },
  {
   "cell_type": "code",
   "execution_count": null,
   "metadata": {},
   "outputs": [],
   "source": [
    "pipe = Pipeline(\n",
    "    columns = {'close_price': USEquityPricing.close.latest,\n",
    "               'returns': Returns(inputs=[USEquityPricing.close], window_length=2),\n",
    "               'log_returns': Returns(inputs=[USEquityPricing.close], window_length=2).log1p(),\n",
    "              },\n",
    "    screen = universe,\n",
    "    )\n",
    "\n",
    "result = run_pipeline(pipe, '2019-01-1', '2019-02-1')\n",
    "result.index.rename(['date', 'stock'], inplace=True)\n",
    "result.head()"
   ]
  },
  {
   "cell_type": "code",
   "execution_count": null,
   "metadata": {},
   "outputs": [],
   "source": [
    "result['percent_change'] = result.groupby(level='stock').close_price.pct_change()\n",
    "result['log_percent_chnge'] = np.log(1 + result.percent_change)\n"
   ]
  },
  {
   "cell_type": "code",
   "execution_count": null,
   "metadata": {},
   "outputs": [],
   "source": [
    "result.head()"
   ]
  },
  {
   "cell_type": "code",
   "execution_count": null,
   "metadata": {},
   "outputs": [],
   "source": [
    "k = 30\n",
    "start = '2014-01-01'\n",
    "end = '2015-01-01'\n",
    "pricing = get_pricing('PEP', fields='price', start_date=start, end_date=end)\n",
    "fundamentals = init_fundamentals()\n",
    "num_shares = get_fundamentals(query(fundamentals.earnings_report.basic_average_shares,)\n",
    "                              .filter(fundamentals.company_reference.primary_symbol == 'PEP',), end)\n",
    "x = np.log(pricing)\n",
    "v = x.diff()\n",
    "m = get_pricing('PEP', fields='volume', start_date=start, end_date=end)/num_shares.values[0,0]\n",
    "\n",
    "p0 = pd.rolling_sum(v, k)\n",
    "p1 = pd.rolling_sum(m*v, k)\n",
    "p2 = p1/pd.rolling_sum(m, k)\n",
    "p3 = pd.rolling_mean(v, k)/pd.rolling_std(v, k)"
   ]
  },
  {
   "cell_type": "code",
   "execution_count": null,
   "metadata": {},
   "outputs": [],
   "source": []
  }
 ],
 "metadata": {
  "from_backtest": "5f5e2f99e524564684b7b562",
  "kernelspec": {
   "display_name": "Python 3.5",
   "language": "python",
   "name": "py35"
  },
  "language_info": {
   "codemirror_mode": {
    "name": "ipython",
    "version": 3
   },
   "file_extension": ".py",
   "mimetype": "text/x-python",
   "name": "python",
   "nbconvert_exporter": "python",
   "pygments_lexer": "ipython3",
   "version": "3.5.10"
  }
 },
 "nbformat": 4,
 "nbformat_minor": 2
}
