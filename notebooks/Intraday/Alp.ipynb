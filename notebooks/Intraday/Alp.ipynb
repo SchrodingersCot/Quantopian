{
 "cells": [
  {
   "cell_type": "code",
   "execution_count": null,
   "metadata": {},
   "outputs": [],
   "source": [
    "import matplotlib.pyplot as plt\n",
    "import matplotlib.cm as cm\n",
    "import talib as ta\n",
    "\n",
    "import numpy as np\n",
    "import pandas as pd\n",
    "\n",
    "from quantopian.pipeline.filters.morningstar import Q500US, Q1500US, Q3000US\n",
    "from quantopian.pipeline import Pipeline\n",
    "from quantopian.research import run_pipeline\n",
    "\n",
    "from quantopian.pipeline.data import EquityPricing\n",
    "from quantopian.pipeline.data import morningstar\n",
    "\n",
    "from quantopian.pipeline.factors import PercentChange, RSI, SimpleMovingAverage, SimpleBeta, Returns\n",
    "\n",
    "from quantopian.pipeline.data.factset import Fundamentals\n",
    "\n",
    "from quantopian.pipeline.factors import CustomFactor\n",
    "#from quantopian.pipeline.data.quandl import cboe_vix as vixData"
   ]
  },
  {
   "cell_type": "code",
   "execution_count": null,
   "metadata": {},
   "outputs": [],
   "source": [
    "universe = Q500US()\n",
    "start_date = '2020-01-01'\n",
    "end_date='2020-10-24'"
   ]
  },
  {
   "cell_type": "code",
   "execution_count": null,
   "metadata": {},
   "outputs": [],
   "source": [
    "class getVix(CustomFactor):  \n",
    "    def compute(self, today, assets, out, vix):   \n",
    "        out[:] = vix[-1]\n",
    "        \n",
    "class pathquality(CustomFactor):  \n",
    "    def compute(self, today, assets, out, values):  \n",
    "        out[:] = np.nanstd(np.diff(values, axis=0), axis = 0)"
   ]
  },
  {
   "cell_type": "code",
   "execution_count": null,
   "metadata": {},
   "outputs": [],
   "source": [
    "def make_pipeline():\n",
    "    price = EquityPricing.close.latest\n",
    "    close = EquityPricing.close\n",
    "    \n",
    "    EMA200 = SimpleMovingAverage(inputs=[close], window_length=200)/price*100\n",
    "    delta125 = PercentChange(inputs=[close], window_length=125)*100\n",
    "    EMA50 = SimpleMovingAverage(inputs=[close], window_length=50)/price*100\n",
    "    delta20 = PercentChange(inputs=[close], window_length=20)*100\n",
    "    RSI14 = RSI(inputs=[close], window_length=15)\n",
    "    \n",
    "    \n",
    "    SCTR = 0.3*EMA200 + 0.3*delta125 + 0.15*EMA50 + 0.15*delta20 + 0.05*RSI14\n",
    "    \n",
    "    beta = SimpleBeta(symbols('SPY') , regression_length = 252)\n",
    "    \n",
    "    #vix  = getVix(inputs  = [vixData.vix_close],window_length = 1)\n",
    "    \n",
    "    lastyearsreturns = Returns(window_length = 252)\n",
    "    \n",
    "    dailyreturns = Returns(window_length = 2)\n",
    "    quality = pathquality(inputs = [close], window_length = 252)  \n",
    "    \n",
    "    classification = morningstar.asset_classification.morningstar_industry_group_code.latest\n",
    "    \n",
    "    return Pipeline(\n",
    "        columns={\n",
    "            'prev_close':price,\n",
    "            'Stock Ranking':SCTR,\n",
    "            'classification':classification,\n",
    "            'volatility': quality,\n",
    "            'beta':beta,\n",
    "            #'vix': vix\n",
    "        },\n",
    "        screen=universe\n",
    "    )\n"
   ]
  },
  {
   "cell_type": "code",
   "execution_count": null,
   "metadata": {},
   "outputs": [],
   "source": [
    "pipe = make_pipeline()\n",
    "data = run_pipeline(pipe, start_date, end_date)\n",
    "pricing_data = get_pricing(data.index.levels[1], start_date, end_date, fields='close_price')\n"
   ]
  },
  {
   "cell_type": "code",
   "execution_count": null,
   "metadata": {},
   "outputs": [],
   "source": [
    "reindex = data.reorder_levels([1, 0]).reset_index().set_index('level_0')"
   ]
  },
  {
   "cell_type": "code",
   "execution_count": null,
   "metadata": {},
   "outputs": [],
   "source": [
    "NVAX = reindex.loc[symbols('NVAX'),:]"
   ]
  },
  {
   "cell_type": "code",
   "execution_count": null,
   "metadata": {},
   "outputs": [],
   "source": [
    "NVAX = NVAX.set_index('level_1')"
   ]
  },
  {
   "cell_type": "code",
   "execution_count": null,
   "metadata": {},
   "outputs": [],
   "source": [
    "NVAX['Stock Ranking'].plot()"
   ]
  },
  {
   "cell_type": "code",
   "execution_count": null,
   "metadata": {},
   "outputs": [],
   "source": []
  }
 ],
 "metadata": {
  "kernelspec": {
   "display_name": "Python 3.5",
   "language": "python",
   "name": "py35"
  },
  "language_info": {
   "codemirror_mode": {
    "name": "ipython",
    "version": 3
   },
   "file_extension": ".py",
   "mimetype": "text/x-python",
   "name": "python",
   "nbconvert_exporter": "python",
   "pygments_lexer": "ipython3",
   "version": "3.5.10"
  }
 },
 "nbformat": 4,
 "nbformat_minor": 2
}
