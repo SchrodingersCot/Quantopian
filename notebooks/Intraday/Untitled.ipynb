{
 "cells": [
  {
   "cell_type": "code",
   "execution_count": null,
   "metadata": {},
   "outputs": [],
   "source": [
    "import matplotlib.pyplot as plt\n",
    "import matplotlib.cm as cm\n",
    "\n",
    "import numpy as np\n",
    "import pandas as pd\n",
    "\n",
    "from sklearn.cluster import KMeans, DBSCAN\n",
    "from sklearn.decomposition import PCA\n",
    "from sklearn.manifold import TSNE\n",
    "from sklearn import preprocessing\n",
    "\n",
    "import statsmodels.api as sm\n",
    "from statsmodels.tsa.stattools import coint\n",
    "\n",
    "from scipy import stats\n",
    "from quantopian.pipeline.factors import AnnualizedVolatility, Factor, Returns, CustomFactor\n",
    "from quantopian.pipeline import Pipeline\n",
    "from quantopian.pipeline.data import morningstar\n",
    "from quantopian.pipeline.data.builtin import USEquityPricing\n",
    "from quantopian.pipeline.factors import SimpleMovingAverage, AverageDollarVolume\n",
    "from quantopian.pipeline.filters import  StaticAssets\n",
    "from quantopian.pipeline.filters.morningstar import Q500US, Q1500US, Q3000US\n",
    "from quantopian.pipeline.data.factset import EquityMetadata\n",
    "from quantopian.pipeline import Pipeline\n",
    "from quantopian.research import run_pipeline"
   ]
  },
  {
   "cell_type": "code",
   "execution_count": null,
   "metadata": {},
   "outputs": [],
   "source": [
    "'''The rules for the strategy are:\n",
    "1. Select all stocks near the market open whose returns from their previous day’s lows to today’s opens are lower \n",
    "   than one standard deviation. The standard deviation is computed using the daily close-to-close returns of the \n",
    "   last 90 days. These are the stocks that “gapped down.”\n",
    "2. Narrow down this list of stocks by requiring their open prices to be higher than the 20-day moving average of \n",
    "   the closing prices.\n",
    "3. Buy the 10 stocks within this list that have the lowest returns from their previous day’s lows. If the list has \n",
    "   fewer than 10 stocks, then buy the entire list.\n",
    "4. Liquidate all positions at the market close.'''\n",
    "\n",
    "class CloseOnN(CustomFactor):  \n",
    "    # Define inputs\n",
    "    inputs = [USEquityPricing.close]\n",
    "    \n",
    "    # Set window_length to one more  than the number of days to look back\n",
    "    # my_close_on_10 = CloseOnN(window_length = 10+1)\n",
    "    \n",
    "    #window_length = 2 \n",
    "    \n",
    "    def compute(self, today, assets, out, close):  \n",
    "        out[:] = close[0]\n",
    "        \n",
    "class LowOnN(CustomFactor):  \n",
    "    # Define inputs\n",
    "    inputs = [USEquityPricing.low]\n",
    "    \n",
    "    # Set window_length to one more  than the number of days to look back\n",
    "    # my_close_on_10 = CloseOnN(window_length = 10+1)\n",
    "    \n",
    "    #window_length = 2 \n",
    "    \n",
    "    def compute(self, today, assets, out, low):  \n",
    "        out[:] = low[0]\n",
    "        \n",
    "class Volatility(CustomFactor):  \n",
    "    inputs = [USEquityPricing.close]  \n",
    "    window_length = 90\n",
    "    def compute(self, today, assets, out, close):  \n",
    "        # [0:-1] is needed to remove last close since diff is one element shorter  \n",
    "        daily_returns = np.diff(close, axis = 0) / close[0:-1]  \n",
    "        out[:] = daily_returns.std(axis = 0)\n"
   ]
  },
  {
   "cell_type": "code",
   "execution_count": null,
   "metadata": {},
   "outputs": [],
   "source": [
    "'''The rules for the strategy are:\n",
    "1. Select all stocks near the market open whose returns from their previous day’s lows to today’s opens are lower \n",
    "   than one standard deviation. The standard deviation is computed using the daily close-to-close returns of the \n",
    "   last 90 days. These are the stocks that “gapped down.”\n",
    "2. Narrow down this list of stocks by requiring their open prices to be higher than the 20-day moving average of \n",
    "   the closing prices.\n",
    "3. Buy the 10 stocks within this list that have the lowest returns from their previous day’s lows. If the list has \n",
    "   fewer than 10 stocks, then buy the entire list.\n",
    "4. Liquidate all positions at the market close.'''\n",
    "\n",
    "opening = USEquityPricing.open.latest\n",
    "close = USEquityPricing.close.latest\n",
    "prevclose = CloseOnN(window_length = 2)\n",
    "std_90 = Volatility(window_length=90)\n",
    "sma_20 = SimpleMovingAverage(inputs=[USEquityPricing.close], window_length=20)\n",
    "low = USEquityPricing.low.latest\n",
    "prevlow = LowOnN(window_length = 2)\n",
    "ret = opening/prevlow-1\n",
    "\n",
    "# Construct Filter.\n",
    "rule_1 = ((opening/prevlow-1) < std_90)\n",
    "rule_2 = (opening > sma_20)\n",
    "\n",
    "# Create pipeline\n",
    "universe = Q1500US\n",
    "#universe = StaticAssets(symbols(['TSLA', 'AAPL']))\n",
    "\n",
    "pipe = Pipeline(\n",
    "        columns = {\n",
    "        'open' : opening,\n",
    "        'close' : close,\n",
    "        'prevlow' : prevlow,\n",
    "        'return' : ret,\n",
    "        'rule_1' : rule_1,\n",
    "        'rule_2' : rule_2})\n",
    "\n",
    "pipe.set_screen (rule_1 & rule_2)"
   ]
  },
  {
   "cell_type": "code",
   "execution_count": null,
   "metadata": {},
   "outputs": [],
   "source": [
    "df = run_pipeline(pipe, '2019-08-01', '2020-08-01')\n",
    "df"
   ]
  },
  {
   "cell_type": "code",
   "execution_count": null,
   "metadata": {},
   "outputs": [],
   "source": [
    "df = df.sort_values(by = 'return', ascending = True)"
   ]
  },
  {
   "cell_type": "code",
   "execution_count": null,
   "metadata": {},
   "outputs": [],
   "source": [
    "df"
   ]
  },
  {
   "cell_type": "code",
   "execution_count": null,
   "metadata": {},
   "outputs": [],
   "source": [
    "len(df.index.get_level_values(1))"
   ]
  },
  {
   "cell_type": "code",
   "execution_count": null,
   "metadata": {},
   "outputs": [],
   "source": [
    "np.diff()"
   ]
  }
 ],
 "metadata": {
  "kernelspec": {
   "display_name": "Python 3.5",
   "language": "python",
   "name": "py35"
  },
  "language_info": {
   "codemirror_mode": {
    "name": "ipython",
    "version": 3
   },
   "file_extension": ".py",
   "mimetype": "text/x-python",
   "name": "python",
   "nbconvert_exporter": "python",
   "pygments_lexer": "ipython3",
   "version": "3.5.10"
  }
 },
 "nbformat": 4,
 "nbformat_minor": 2
}
