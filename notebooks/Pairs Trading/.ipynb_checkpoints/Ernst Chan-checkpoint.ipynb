{
 "cells": [
  {
   "cell_type": "code",
   "execution_count": null,
   "metadata": {},
   "outputs": [],
   "source": [
    "import matplotlib.pyplot as plt\n",
    "import matplotlib.cm as cm\n",
    "\n",
    "import numpy as np\n",
    "import pandas as pd\n",
    "\n",
    "from sklearn.cluster import KMeans, DBSCAN\n",
    "from sklearn.decomposition import PCA\n",
    "from sklearn.manifold import TSNE\n",
    "from sklearn import preprocessing\n",
    "\n",
    "import statsmodels.api as sm\n",
    "from statsmodels.tsa.stattools import coint\n",
    "\n",
    "from scipy import stats\n",
    "\n",
    "from quantopian.pipeline.data import morningstar\n",
    "from quantopian.pipeline.data.builtin import USEquityPricing\n",
    "from quantopian.pipeline.factors import SimpleMovingAverage, AverageDollarVolume\n",
    "from quantopian.pipeline.filters import  StaticAssets\n",
    "from quantopian.pipeline.filters.morningstar import Q500US, Q1500US, Q3000US\n",
    "from quantopian.pipeline.data.factset import EquityMetadata\n",
    "from quantopian.pipeline import Pipeline\n",
    "from quantopian.research import run_pipeline"
   ]
  },
  {
   "cell_type": "code",
   "execution_count": null,
   "metadata": {},
   "outputs": [],
   "source": [
    "security_type = EquityMetadata.security_type.latest\n",
    "close = USEquityPricing.close.latest\n",
    "dollar_volume = AverageDollarVolume(window_length=30)\n",
    "\n",
    "high_dollar_volume = dollar_volume.percentile_between(90, 100)\n",
    "is_ETF = security_type.startswith('ETF')\n",
    "\n",
    "# Create a pipline with each of the factor outputs as columns\n",
    "pipe = Pipeline(\n",
    "            columns = {\n",
    "            'close' : close,\n",
    "            'dollar_vol' : dollar_volume,\n",
    "            })\n",
    "pipe.set_screen(is_ETF)"
   ]
  },
  {
   "cell_type": "code",
   "execution_count": null,
   "metadata": {},
   "outputs": [],
   "source": [
    "etf = run_pipeline(pipe, '2019-03-01', '2019-03-01')\n",
    "etf = etf.reset_index(level=0, drop=True)\n",
    "etf.head()"
   ]
  },
  {
   "cell_type": "code",
   "execution_count": null,
   "metadata": {},
   "outputs": [],
   "source": [
    "counts, bins, bars = plt.hist(etf['dollar_vol'], bins = 100)\n",
    "plt.show()\n",
    "\n",
    "#print(\"{0} ETFs have daily trading volumes in the bottom {1}th percentile, below {2}.\"\n",
    "      #.format(int(counts[0]), int(counts[0]/len(etf)*100), int(bins[1])))"
   ]
  },
  {
   "cell_type": "code",
   "execution_count": null,
   "metadata": {},
   "outputs": [],
   "source": [
    "percentile = etf['dollar_vol'].quantile(0.95) #dollar vol of top 90th percentile\n",
    "liquid_etf = etf[etf['dollar_vol']> percentile] #filter for top 10% most liquid ETF\n",
    "liquid_etf = liquid_etf.sort_values(by='dollar_vol',ascending=False) #sort ETF by dollar volume\n",
    "liquid_etf.head()"
   ]
  },
  {
   "cell_type": "code",
   "execution_count": null,
   "metadata": {},
   "outputs": [],
   "source": [
    "def find_cointegrated_pairs(data):\n",
    "    n = data.shape[1]\n",
    "    score_matrix = np.zeros((n, n))\n",
    "    pvalue_matrix = np.ones((n, n))\n",
    "    keys = data.keys()\n",
    "    pairs = []\n",
    "    for i in range(n):\n",
    "        for j in range(i+1, n):\n",
    "            S1 = data[keys[i]]\n",
    "            S2 = data[keys[j]]\n",
    "            result = coint(S1, S2)\n",
    "            score = result[0]\n",
    "            pvalue = result[1]\n",
    "            score_matrix[i, j] = score\n",
    "            pvalue_matrix[i, j] = pvalue\n",
    "            if pvalue < 0.01:\n",
    "                pairs.append((keys[i], keys[j]))\n",
    "    return score_matrix, pvalue_matrix, pairs"
   ]
  },
  {
   "cell_type": "code",
   "execution_count": null,
   "metadata": {},
   "outputs": [],
   "source": [
    "etf_universe = []\n",
    "for etf in liquid_etf.index:\n",
    "    etf_universe.append(etf.symbol)"
   ]
  },
  {
   "cell_type": "code",
   "execution_count": null,
   "metadata": {},
   "outputs": [],
   "source": [
    "universe = StaticAssets(symbols(etf_universe))"
   ]
  },
  {
   "cell_type": "code",
   "execution_count": null,
   "metadata": {},
   "outputs": [],
   "source": [
    "filtered_pipe = Pipeline(\n",
    "            columns = {\n",
    "            'close' : close},\n",
    "            screen = universe)\n",
    "\n",
    "liquid_pipe = run_pipeline(filtered_pipe, '2018-08-01', '2019-08-01')"
   ]
  },
  {
   "cell_type": "code",
   "execution_count": null,
   "metadata": {},
   "outputs": [],
   "source": [
    "prices = liquid_pipe.close.unstack()\n",
    "prices.head()"
   ]
  },
  {
   "cell_type": "code",
   "execution_count": null,
   "metadata": {},
   "outputs": [],
   "source": [
    "scores, pvalues, pairs = find_cointegrated_pairs(prices)"
   ]
  },
  {
   "cell_type": "code",
   "execution_count": null,
   "metadata": {},
   "outputs": [],
   "source": [
    "import seaborn\n",
    "seaborn.heatmap(pvalues, xticklabels=etf_universe, yticklabels=etf_universe, cmap='RdYlGn_r' \n",
    "                , mask = (pvalues >= 0.05)\n",
    "                )\n",
    "pairs"
   ]
  },
  {
   "cell_type": "code",
   "execution_count": null,
   "metadata": {},
   "outputs": [],
   "source": [
    "for pair in pairs:\n",
    "    print(\"(symbol('{0}'), symbol('{1}')),\".format(pair[0].symbol, pair[1].symbol))"
   ]
  },
  {
   "cell_type": "code",
   "execution_count": null,
   "metadata": {},
   "outputs": [],
   "source": [
    "for etf in np.unique(pairs[0:50]):\n",
    "    print(\"'{0}',\".format(etf.symbol))"
   ]
  },
  {
   "cell_type": "code",
   "execution_count": null,
   "metadata": {},
   "outputs": [],
   "source": []
  },
  {
   "cell_type": "code",
   "execution_count": null,
   "metadata": {},
   "outputs": [],
   "source": [
    "stock_pairs = [ (symbols('SPY'), symbols('IVV')),\n",
    "                (symbols('SPY'), symbols('IWB')),\n",
    "                (symbols('SPY'), symbols('FEZ')),\n",
    "                (symbols('SPY'), symbols('VOO'))]\n",
    "\n",
    "stocks = symbols(['SPY','FEZ','VOO','IJH','MDY','VEA'])\n",
    "num_pairs = len(stock_pairs)\n",
    "\n",
    "# strategy specific variables\n",
    "lookback = 20 # used for regression\n",
    "z_window = 20 # used for zscore calculation, must be <= lookback\n",
    "target_weights = pd.Series(index=stocks, data=0.25)"
   ]
  },
  {
   "cell_type": "code",
   "execution_count": null,
   "metadata": {},
   "outputs": [],
   "source": [
    "for pair in pairs[0:50]:\n",
    "    print(\"(symbol('{0}'), symbol('{1}')),\".format(pair[0].symbol, pair[1].symbol))"
   ]
  },
  {
   "cell_type": "code",
   "execution_count": null,
   "metadata": {},
   "outputs": [],
   "source": [
    "def get_weight(context,data,pair,dev_cutoff,dev_ceil=3):\n",
    "    price_diff=context.price_hist[pair[0]].sub(context.price_hist[pair[1]])\n",
    "    mean_diff=price_diff.mean()\n",
    "    sd_diff=price_diff.std()\n",
    "    price1 = data.current(pair[0],\"price\")\n",
    "    price2 = data.current(pair[1],\"price\")\n",
    "    cur_diff = price1 - price2\n",
    "    cur_deviation = abs(cur_diff - mean_diff)/sd_diff\n",
    "    mprice=max(price1,price2)\n",
    "    weight=0\n",
    "    if (dev_ceil !=3):\n",
    "        print \"Hm %s,Cm %s, sd %s,cd %s,mp %s\" % (mean_diff,cur_diff,sd_diff,cur_deviation,mprice)\n",
    "    #Discard high volatile stock\n",
    "    if (sd_diff/mprice > .1):\n",
    "        return 0\n",
    "    if (cur_deviation > dev_cutoff and cur_deviation < dev_ceil):\n",
    "        if (cur_diff > mean_diff):\n",
    "            weight=(-1.0*cur_deviation)\n",
    "        else:\n",
    "            weight=(1.0*cur_deviation)\n",
    "    return weight   "
   ]
  },
  {
   "cell_type": "code",
   "execution_count": null,
   "metadata": {},
   "outputs": [],
   "source": []
  }
 ],
 "metadata": {
  "kernelspec": {
   "display_name": "Python 3",
   "language": "python",
   "name": "python3"
  },
  "language_info": {
   "codemirror_mode": {
    "name": "ipython",
    "version": 3
   },
   "file_extension": ".py",
   "mimetype": "text/x-python",
   "name": "python",
   "nbconvert_exporter": "python",
   "pygments_lexer": "ipython3",
   "version": "3.8.5"
  }
 },
 "nbformat": 4,
 "nbformat_minor": 2
}
