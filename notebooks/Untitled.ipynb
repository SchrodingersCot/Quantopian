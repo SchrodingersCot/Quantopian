{
 "cells": [
  {
   "cell_type": "code",
   "execution_count": null,
   "metadata": {},
   "outputs": [],
   "source": [
    "from quantopian.pipeline import Pipeline  \n",
    "from quantopian.pipeline.data import EquityPricing, factset  \n",
    "from quantopian.pipeline.domain import US_EQUITIES  \n",
    "from quantopian.research import run_pipeline\n",
    "import quantopian.pipeline.factors as Factors\n",
    "import quantopian.pipeline.filters as Filters\n",
    "from quantopian.pipeline.data.builtin import USEquityPricing\n",
    "from quantopian.pipeline.factors import SimpleMovingAverage\n",
    "from quantopian.pipeline.data import Fundamentals  \n",
    "from quantopian.pipeline.factors.fundamentals import MarketCap\n",
    "import numpy as np\n",
    "import pandas as pd\n",
    "from quantopian.pipeline.classifiers.morningstar import Sector\n",
    "from quantopian.pipeline.data import morningstar as mstar\n",
    "from quantopian.pipeline.data.factset.estimates import PeriodicConsensus"
   ]
  },
  {
   "cell_type": "code",
   "execution_count": null,
   "metadata": {},
   "outputs": [],
   "source": []
  },
  {
   "cell_type": "code",
   "execution_count": null,
   "metadata": {},
   "outputs": [],
   "source": [
    "def make_pipeline():\n",
    "\n",
    "    sphere = mstar.asset_classification.morningstar_economy_sphere_code.latest  \n",
    "    industry_code = mstar.asset_classification.morningstar_industry_code.latest  \n",
    "    industry_group = mstar.asset_classification.morningstar_industry_group_code.latest  \n",
    "    sector = mstar.asset_classification.morningstar_sector_code.latest\n",
    "    \n",
    "    returns = Factors.Returns(window_length = 2)\n",
    "    latest_close = EquityPricing.close.latest\n",
    "    market_cap =  Fundamentals.market_cap.latest\n",
    "    pe_ratio = mstar.valuation_ratios.pe_ratio.latest\n",
    "    pb_ratio = mstar.valuation_ratios.pb_ratio.latest\n",
    "    demeaned_return_within_industry = returns.demean(groupby=industry_group, mask=returns.notnan())\n",
    "    \n",
    "    current_eps = Fundamentals.basic_eps_earnings_reports.latest\n",
    "    forecast_eps = PeriodicConsensus.slice('EPS', 'qf', 4)\n",
    "    forecast_eps_mean=forecast_eps.mean.latest\n",
    "    estimated_growth_factor= (forecast_eps_mean - current_eps) / current_eps\n",
    "\n",
    "    return Pipeline(\n",
    "        columns={\n",
    "            'market_cap': market_cap,\n",
    "            'P/E': pe_ratio,\n",
    "            'P/B': pb_ratio,\n",
    "            'price': latest_close,\n",
    "            'industry_group': industry_group,\n",
    "            'demeaned_return_within_industry': demeaned_return_within_industry,\n",
    "            'estimated_growth_factor': estimated_growth_factor\n",
    "        },\n",
    "        domain=CN_EQUITIES\n",
    "    )\n",
    "\n",
    "my_pipe = make_pipeline()\n",
    "\n",
    "result = run_pipeline(my_pipe, '2017-06-15','2017-06-15')\n",
    "result.index.rename(['date', 'stock'], inplace=True)  \n",
    "oneday = result.loc[('2017-06-15')]\n",
    "\n",
    "oneday.head()"
   ]
  },
  {
   "cell_type": "code",
   "execution_count": null,
   "metadata": {},
   "outputs": [],
   "source": [
    "averages_by_group = result.groupby(['industry_group']).mean()\n",
    "\n",
    "merged=result.merge(pd.DataFrame(averages_by_group['P/E']).reset_index(), on='industry_group')\n",
    "merged1=merged.rename(columns={'P/E_x':'P/E','P/E_y':'industry_P/E'}).set_index(result.index)\n",
    "\n",
    "merged=merged1.merge(pd.DataFrame(averages_by_group['P/B']).reset_index(), on='industry_group')\n",
    "screen=merged.rename(columns={'P/B_x':'P/B','P/B_y':'industry_P/B'}).set_index(result.index)\n",
    "\n",
    "screen"
   ]
  },
  {
   "cell_type": "code",
   "execution_count": null,
   "metadata": {},
   "outputs": [],
   "source": [
    "rank_30=int(np.round(len(screen)*0.3))\n",
    "top_30=screen.nlargest(rank_30,'market_cap')\n",
    "top_30"
   ]
  },
  {
   "cell_type": "code",
   "execution_count": null,
   "metadata": {},
   "outputs": [],
   "source": [
    "selected=top_30[(top_30['P/B']<top_30['industry_P/B']) & (top_30['P/E']<top_30['industry_P/E']) & (top_30['estimated_growth_factor']>0)]"
   ]
  },
  {
   "cell_type": "code",
   "execution_count": null,
   "metadata": {},
   "outputs": [],
   "source": [
    "selected"
   ]
  },
  {
   "cell_type": "code",
   "execution_count": null,
   "metadata": {},
   "outputs": [],
   "source": [
    "from quantopian.pipeline import Pipeline\n",
    "from quantopian.pipeline.data.sentdex import sentiment\n",
    "from quantopian.pipeline.domain import US_EQUITIES\n",
    "from quantopian.pipeline.factors import SimpleMovingAverage\n",
    "from quantopian.research import run_pipeline\n",
    "quantopian.pipeline.filters.Q500US(minimum_market_cap=500000000)\n",
    "\n",
    "# Define a 5-day simple moving average sentiment factor.\n",
    "mean_sentiment_5day = SimpleMovingAverage(inputs=[sentiment.sentiment_signal], window_length=15)\n",
    "\n",
    "# Add the sentiment factor to a pipeline.\n",
    "pipe = Pipeline(\n",
    "    columns={\n",
    "        'mean_sentiment_5day': mean_sentiment_5day,\n",
    "    },\n",
    "    domain=US_EQUITIES,\n",
    ")\n",
    "\n",
    "# Run the pipeline for a year and print the first few rows of the result.\n",
    "df = run_pipeline(pipe, '2020-01-01', '2020-05-05')\n",
    "print(df.head())"
   ]
  },
  {
   "cell_type": "code",
   "execution_count": null,
   "metadata": {},
   "outputs": [],
   "source": [
    "df.at[symbol('AAPL'),'mean_sentiment_5day']"
   ]
  },
  {
   "cell_type": "code",
   "execution_count": null,
   "metadata": {},
   "outputs": [],
   "source": [
    "from quantopian.research.experimental import query_self_serve_data  \n",
    "query_self_serve_data(robintrack.columns,'US',assets=symbols(['TSLA'])).tail(20)  "
   ]
  },
  {
   "cell_type": "code",
   "execution_count": null,
   "metadata": {},
   "outputs": [],
   "source": []
  }
 ],
 "metadata": {
  "kernelspec": {
   "display_name": "Python 3.5",
   "language": "python",
   "name": "py35"
  }
 },
 "nbformat": 4,
 "nbformat_minor": 2
}
