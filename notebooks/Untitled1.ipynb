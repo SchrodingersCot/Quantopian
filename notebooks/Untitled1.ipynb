{
 "cells": [
  {
   "cell_type": "code",
   "execution_count": null,
   "metadata": {},
   "outputs": [],
   "source": [
    "from quantopian.pipeline import Pipeline\n",
    "from quantopian.pipeline.data.builtin import USEquityPricing\n",
    "from quantopian.pipeline.data import morningstar\n",
    "from quantopian.pipeline.factors import SimpleMovingAverage, AverageDollarVolume\n",
    "from quantopian.pipeline.filters.morningstar import IsPrimaryShare\n",
    "\n",
    "import numpy as np  # needed for NaN handling\n",
    "import math  # ceil and floor are useful for rounding\n",
    "\n",
    "from itertools import cycle"
   ]
  },
  {
   "cell_type": "code",
   "execution_count": null,
   "metadata": {},
   "outputs": [],
   "source": [
    "def make_pipeline():\n",
    "    primary_share = IsPrimaryShare()\n",
    "\n",
    "    # Equities listed as common stock (as opposed to, say, preferred stock).\n",
    "    # 'ST00000001' indicates common stock.\n",
    "    common_stock = morningstar.share_class_reference.security_type.latest.eq(\n",
    "        'ST00000001')\n",
    "\n",
    "    # Non-depositary receipts. Recall that the ~ operator inverts filters,\n",
    "    # turning Trues into Falses and vice versa\n",
    "    not_depositary = ~morningstar.share_class_reference.is_depositary_receipt.latest\n",
    "\n",
    "    # Equities not trading over-the-counter.\n",
    "    not_otc = ~morningstar.share_class_reference.exchange_id.latest.startswith(\n",
    "        'OTC')\n",
    "\n",
    "    # Not when-issued equities.\n",
    "    not_wi = ~morningstar.share_class_reference.symbol.latest.endswith('.WI')\n",
    "\n",
    "    # Equities without LP in their name, .matches does a match using a regular\n",
    "    # expression\n",
    "    not_lp_name = ~morningstar.company_reference.standard_name.latest.matches(\n",
    "        '.* L[. ]?P.?$')\n",
    "\n",
    "    # Equities with a null value in the limited_partnership Morningstar\n",
    "    # fundamental field.\n",
    "    #not_lp_balance_sheet = morningstar.balance_sheet.limited_partnership.latest.isnull()\n",
    "\n",
    "    # Equities whose most recent Morningstar market cap is not null have\n",
    "    # fundamental data and therefore are not ETFs.\n",
    "    have_market_cap = morningstar.valuation.market_cap.latest.notnull()\n",
    "\n",
    "    # At least a certain price\n",
    "    price = USEquityPricing.close.latest\n",
    "    AtLeastPrice = (price >= 3)\n",
    "    AtMostPrice = (price <= 25)\n",
    "\n",
    "    # Filter for stocks that pass all of our previous filters.\n",
    "    tradeable_stocks = (\n",
    "        primary_share\n",
    "        & common_stock\n",
    "        & not_depositary\n",
    "        & not_otc\n",
    "        & not_wi\n",
    "        & not_lp_name\n",
    "        #& not_lp_balance_sheet\n",
    "        & have_market_cap\n",
    "        & AtLeastPrice\n",
    "        & AtMostPrice\n",
    "    )\n",
    "\n",
    "    LowVar = 6\n",
    "    HighVar = 40\n",
    "\n",
    "    LowVar = 6\n",
    "    HighVar = 40\n",
    "\n",
    "    base_universe = AverageDollarVolume(\n",
    "        window_length=20,\n",
    "        mask=tradeable_stocks\n",
    "        ).percentile_between(LowVar, HighVar)\n",
    "\n",
    "    # Short close price average.\n",
    "    ShortAvg = SimpleMovingAverage(\n",
    "        inputs=[USEquityPricing.close],\n",
    "        window_length=3,\n",
    "        mask=base_universe\n",
    "    )\n",
    "\n",
    "    # Long close price average.\n",
    "    LongAvg = SimpleMovingAverage(\n",
    "        inputs=[USEquityPricing.close],\n",
    "        window_length=45,\n",
    "        mask=base_universe\n",
    "    )\n",
    "\n",
    "    percent_difference = (ShortAvg - LongAvg) / LongAvg\n",
    "\n",
    "    # Filter to select securities to long.\n",
    "    stocks_worst = percent_difference.bottom(100)\n",
    "    securities_to_trade = (stocks_worst)\n",
    "\n",
    "    pipe = Pipeline(\n",
    "        columns={\n",
    "            'stocks_worst': stocks_worst\n",
    "        },\n",
    "        screen=(securities_to_trade),\n",
    "    )\n",
    "    return pipe"
   ]
  },
  {
   "cell_type": "code",
   "execution_count": null,
   "metadata": {},
   "outputs": [],
   "source": [
    "result = run_pipeline(make_pipeline(), '2020-06-01', '2020-08-01')\n",
    "result"
   ]
  },
  {
   "cell_type": "code",
   "execution_count": null,
   "metadata": {},
   "outputs": [],
   "source": [
    "result.xs('2020-06-15')"
   ]
  },
  {
   "cell_type": "code",
   "execution_count": null,
   "metadata": {},
   "outputs": [],
   "source": [
    "result.xs(symbols('DMTK'), level=1)"
   ]
  },
  {
   "cell_type": "code",
   "execution_count": null,
   "metadata": {},
   "outputs": [],
   "source": []
  },
  {
   "cell_type": "code",
   "execution_count": null,
   "metadata": {},
   "outputs": [],
   "source": []
  }
 ],
 "metadata": {
  "kernelspec": {
   "display_name": "Python 3.5",
   "language": "python",
   "name": "py35"
  },
  "language_info": {
   "codemirror_mode": {
    "name": "ipython",
    "version": 3
   },
   "file_extension": ".py",
   "mimetype": "text/x-python",
   "name": "python",
   "nbconvert_exporter": "python",
   "pygments_lexer": "ipython3",
   "version": "3.5.9"
  }
 },
 "nbformat": 4,
 "nbformat_minor": 2
}
